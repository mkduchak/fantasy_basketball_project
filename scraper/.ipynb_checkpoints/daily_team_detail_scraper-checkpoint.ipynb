{
 "cells": [
  {
   "cell_type": "code",
   "execution_count": 152,
   "metadata": {},
   "outputs": [],
   "source": [
    "import pandas as pd\n",
    "import numpy as np\n",
    "from selenium import webdriver\n",
    "from selenium.webdriver.common.keys import Keys\n",
    "from selenium.webdriver.chrome.options import Options\n",
    "import datetime\n",
    "import time\n",
    "import os\n",
    "import re"
   ]
  },
  {
   "cell_type": "code",
   "execution_count": 156,
   "metadata": {},
   "outputs": [],
   "source": [
    "def scrape_daily_teams(webdriver, datetime_date):\n",
    "    \"\"\"\n",
    "    scrapes everyteam for a given datetime_date\n",
    "    \"\"\"\n",
    "    team_ids = [x for x in range(1,7)]\n",
    "    period_zero = datetime.date(2018,10,15)\n",
    "    datetime_datestring = datetime_date.strftime('%Y-%m-%d')\n",
    "    scoring_period = (datetime_date - period_zero).days\n",
    "    \n",
    "    total_dataframe = pd.DataFrame()\n",
    "    \n",
    "    for team_id in team_ids:\n",
    "        url =\"http://fantasy.espn.com/basketball/team?leagueId=54172160&teamId=\"+str(team_id)+\"&scoringPeriodId=\"+str(scoring_period)\n",
    "        webdriver.get(url)\n",
    "        time.sleep(15)\n",
    "        standings = webdriver.find_elements_by_xpath('//table[@class=\"Table2__table__wrapper\"]')[1]\n",
    "        dataframe = pd.read_html(standings.get_attribute('innerHTML'))\n",
    "        names = dataframe[0]\n",
    "        names = names.drop(10)\n",
    "        names = names.drop('Unnamed: 2',axis=1)\n",
    "        names.columns = ['pos', 'player_team_status_pos', 'opp', 'result']\n",
    "        names = names.reset_index(drop=True)\n",
    "        stats = dataframe[1].iloc[2:,:9]\n",
    "        stats = stats.drop(13)\n",
    "        stats.columns = stats.iloc[0]\n",
    "        stats = stats.iloc[1:]\n",
    "        stats = stats.reset_index(drop=True)\n",
    "        team_stats = pd.merge(names, stats, how='inner', right_index=True, left_index=True)\n",
    "        team_stats = team_stats.replace(to_replace='--', value=np.nan)\n",
    "        team_stats['team_id'] = team_id\n",
    "        team_stats['scoring_period'] = scoring_period\n",
    "        team_stats['date'] = datetime_datestring\n",
    "        \n",
    "        total_dataframe = total_dataframe.append(team_stats)\n",
    "        \n",
    "        print(scoring_period, team_id)\n",
    "    \n",
    "    total_dataframe.to_csv('data/dailyteams/'+datetime_datestring+\".csv\", index=False)"
   ]
  },
  {
   "cell_type": "code",
   "execution_count": 153,
   "metadata": {},
   "outputs": [],
   "source": [
    "chromedriver = \"/home/michael/chromedriver\"\n",
    "os.environ[\"webdriver.chrome.driver\"] = chromedriver\n",
    "\n",
    "chrome_options = Options()  \n",
    "chrome_options.add_argument(\"--headless\")  \n",
    "chrome_options.add_argument('--dns-prefetch-disable')"
   ]
  },
  {
   "cell_type": "code",
   "execution_count": 157,
   "metadata": {},
   "outputs": [],
   "source": [
    "driver = webdriver.Chrome(chromedriver, chrome_options=chrome_options)"
   ]
  },
  {
   "cell_type": "code",
   "execution_count": 166,
   "metadata": {},
   "outputs": [],
   "source": [
    "yesterday_datetime = (datetime.datetime.today() -  datetime.timedelta(1)).date()"
   ]
  },
  {
   "cell_type": "code",
   "execution_count": 165,
   "metadata": {},
   "outputs": [
    {
     "name": "stdout",
     "output_type": "stream",
     "text": [
      "17 1\n",
      "17 2\n",
      "17 3\n",
      "17 4\n",
      "17 5\n",
      "17 6\n",
      "16 1\n",
      "16 2\n",
      "16 3\n",
      "16 4\n",
      "16 5\n",
      "16 6\n",
      "15 1\n",
      "15 2\n",
      "15 3\n",
      "15 4\n",
      "15 5\n",
      "15 6\n",
      "14 1\n",
      "14 2\n",
      "14 3\n",
      "14 4\n",
      "14 5\n",
      "14 6\n",
      "13 1\n",
      "13 2\n",
      "13 3\n",
      "13 4\n",
      "13 5\n",
      "13 6\n",
      "12 1\n",
      "12 2\n",
      "12 3\n",
      "12 4\n",
      "12 5\n",
      "12 6\n",
      "11 1\n",
      "11 2\n",
      "11 3\n",
      "11 4\n",
      "11 5\n",
      "11 6\n",
      "10 1\n",
      "10 2\n",
      "10 3\n",
      "10 4\n",
      "10 5\n",
      "10 6\n",
      "9 1\n",
      "9 2\n",
      "9 3\n",
      "9 4\n",
      "9 5\n",
      "9 6\n",
      "8 1\n",
      "8 2\n",
      "8 3\n",
      "8 4\n",
      "8 5\n",
      "8 6\n",
      "7 1\n",
      "7 2\n",
      "7 3\n",
      "7 4\n",
      "7 5\n",
      "7 6\n",
      "6 1\n",
      "6 2\n",
      "6 3\n",
      "6 4\n",
      "6 5\n",
      "6 6\n",
      "5 1\n",
      "5 2\n",
      "5 3\n",
      "5 4\n",
      "5 5\n",
      "5 6\n",
      "4 1\n",
      "4 2\n",
      "4 3\n",
      "4 4\n",
      "4 5\n",
      "4 6\n",
      "3 1\n",
      "3 2\n",
      "3 3\n",
      "3 4\n",
      "3 5\n",
      "3 6\n",
      "2 1\n",
      "2 2\n",
      "2 3\n",
      "2 4\n",
      "2 5\n",
      "2 6\n",
      "1 1\n",
      "1 2\n",
      "1 3\n",
      "1 4\n",
      "1 5\n",
      "1 6\n"
     ]
    }
   ],
   "source": [
    "#past_datetime_list = [yesterday_datetime - datetime.timedelta(x) for x in range(26,43)]\n",
    "#for date in past_datetime_list:\n",
    "#    scrape_daily_teams(driver, date)"
   ]
  },
  {
   "cell_type": "code",
   "execution_count": 167,
   "metadata": {},
   "outputs": [
    {
     "name": "stdout",
     "output_type": "stream",
     "text": [
      "44 1\n",
      "44 2\n",
      "44 3\n",
      "44 4\n",
      "44 5\n",
      "44 6\n"
     ]
    }
   ],
   "source": [
    "scrape_daily_teams(driver, yesterday_datetime)"
   ]
  },
  {
   "cell_type": "code",
   "execution_count": 168,
   "metadata": {},
   "outputs": [
    {
     "ename": "AttributeError",
     "evalue": "'WebDriver' object has no attribute 'stop'",
     "output_type": "error",
     "traceback": [
      "\u001b[0;31m---------------------------------------------------------------------------\u001b[0m",
      "\u001b[0;31mAttributeError\u001b[0m                            Traceback (most recent call last)",
      "\u001b[0;32m<ipython-input-168-6b47857d4d75>\u001b[0m in \u001b[0;36m<module>\u001b[0;34m()\u001b[0m\n\u001b[0;32m----> 1\u001b[0;31m \u001b[0mdriver\u001b[0m\u001b[0;34m.\u001b[0m\u001b[0mstop\u001b[0m\u001b[0;34m(\u001b[0m\u001b[0;34m)\u001b[0m\u001b[0;34m\u001b[0m\u001b[0m\n\u001b[0m",
      "\u001b[0;31mAttributeError\u001b[0m: 'WebDriver' object has no attribute 'stop'"
     ]
    }
   ],
   "source": [
    "driver.stop()"
   ]
  },
  {
   "cell_type": "code",
   "execution_count": null,
   "metadata": {},
   "outputs": [],
   "source": []
  }
 ],
 "metadata": {
  "kernelspec": {
   "display_name": "Python 3",
   "language": "python",
   "name": "python3"
  },
  "language_info": {
   "codemirror_mode": {
    "name": "ipython",
    "version": 3
   },
   "file_extension": ".py",
   "mimetype": "text/x-python",
   "name": "python",
   "nbconvert_exporter": "python",
   "pygments_lexer": "ipython3",
   "version": "3.6.5"
  }
 },
 "nbformat": 4,
 "nbformat_minor": 2
}
