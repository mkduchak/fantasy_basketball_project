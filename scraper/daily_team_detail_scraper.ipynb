{
 "cells": [
  {
   "cell_type": "code",
   "execution_count": 170,
   "metadata": {},
   "outputs": [],
   "source": [
    "import pandas as pd\n",
    "import numpy as np\n",
    "from selenium import webdriver\n",
    "from selenium.webdriver.common.keys import Keys\n",
    "from selenium.webdriver.chrome.options import Options\n",
    "import datetime\n",
    "import time\n",
    "import os\n",
    "import re"
   ]
  },
  {
   "cell_type": "code",
   "execution_count": 171,
   "metadata": {},
   "outputs": [],
   "source": [
    "def scrape_daily_teams(webdriver, datetime_date):\n",
    "    \"\"\"\n",
    "    scrapes everyteam for a given datetime_date\n",
    "    \"\"\"\n",
    "    team_ids = [x for x in range(1,7)]\n",
    "    period_zero = datetime.date(2018,10,15)\n",
    "    datetime_datestring = datetime_date.strftime('%Y-%m-%d')\n",
    "    scoring_period = (datetime_date - period_zero).days\n",
    "    \n",
    "    total_dataframe = pd.DataFrame()\n",
    "    \n",
    "    for team_id in team_ids:\n",
    "        url =\"http://fantasy.espn.com/basketball/team?leagueId=54172160&teamId=\"+str(team_id)+\"&scoringPeriodId=\"+str(scoring_period)\n",
    "        webdriver.get(url)\n",
    "        time.sleep(15)\n",
    "        standings = webdriver.find_elements_by_xpath('//table[@class=\"Table2__table__wrapper\"]')[1]\n",
    "        dataframe = pd.read_html(standings.get_attribute('innerHTML'))\n",
    "        names = dataframe[0]\n",
    "        names = names.drop(10)\n",
    "        names = names.drop('Unnamed: 2',axis=1)\n",
    "        names.columns = ['pos', 'player_team_status_pos', 'opp', 'result']\n",
    "        names = names.reset_index(drop=True)\n",
    "        stats = dataframe[1].iloc[2:,:9]\n",
    "        stats = stats.drop(13)\n",
    "        stats.columns = stats.iloc[0]\n",
    "        stats = stats.iloc[1:]\n",
    "        stats = stats.reset_index(drop=True)\n",
    "        team_stats = pd.merge(names, stats, how='inner', right_index=True, left_index=True)\n",
    "        team_stats = team_stats.replace(to_replace='--', value=np.nan)\n",
    "        team_stats['team_id'] = team_id\n",
    "        team_stats['scoring_period'] = scoring_period\n",
    "        team_stats['date'] = datetime_datestring\n",
    "        \n",
    "        total_dataframe = total_dataframe.append(team_stats)\n",
    "        \n",
    "        print(scoring_period, team_id)\n",
    "    \n",
    "    total_dataframe.to_csv('data/dailyteams/'+datetime_datestring+\".csv\", index=False)"
   ]
  },
  {
   "cell_type": "code",
   "execution_count": 172,
   "metadata": {},
   "outputs": [],
   "source": [
    "chromedriver = \"/home/ubuntu/fantasy_basketball_project/chromedriver\"\n",
    "#chromedriver = '../chromedriver'\n",
    "os.environ[\"webdriver.chrome.driver\"] = chromedriver\n",
    "\n",
    "chrome_options = Options()  \n",
    "chrome_options.add_argument(\"--headless\")  \n",
    "chrome_options.add_argument('--dns-prefetch-disable')"
   ]
  },
  {
   "cell_type": "code",
   "execution_count": 173,
   "metadata": {},
   "outputs": [],
   "source": [
    "driver = webdriver.Chrome(chromedriver, chrome_options=chrome_options)"
   ]
  },
  {
   "cell_type": "code",
   "execution_count": 174,
   "metadata": {},
   "outputs": [],
   "source": [
    "yesterday_datetime = (datetime.datetime.today() -  datetime.timedelta(1)).date()"
   ]
  },
  {
   "cell_type": "code",
   "execution_count": 175,
   "metadata": {},
   "outputs": [],
   "source": [
    "#past_datetime_list = [yesterday_datetime - datetime.timedelta(x) for x in range(26,43)]\n",
    "#for date in past_datetime_list:\n",
    "#    scrape_daily_teams(driver, date)"
   ]
  },
  {
   "cell_type": "code",
   "execution_count": 176,
   "metadata": {},
   "outputs": [
    {
     "name": "stdout",
     "output_type": "stream",
     "text": [
      "45 1\n",
      "45 2\n",
      "45 3\n",
      "45 4\n",
      "45 5\n",
      "45 6\n"
     ]
    }
   ],
   "source": [
    "scrape_daily_teams(driver, yesterday_datetime)"
   ]
  },
  {
   "cell_type": "code",
   "execution_count": 177,
   "metadata": {},
   "outputs": [],
   "source": [
    "driver.close()"
   ]
  },
  {
   "cell_type": "code",
   "execution_count": null,
   "metadata": {},
   "outputs": [],
   "source": []
  }
 ],
 "metadata": {
  "kernelspec": {
   "display_name": "Python 3",
   "language": "python",
   "name": "python3"
  },
  "language_info": {
   "codemirror_mode": {
    "name": "ipython",
    "version": 3
   },
   "file_extension": ".py",
   "mimetype": "text/x-python",
   "name": "python",
   "nbconvert_exporter": "python",
   "pygments_lexer": "ipython3",
   "version": "3.6.5"
  }
 },
 "nbformat": 4,
 "nbformat_minor": 2
}
